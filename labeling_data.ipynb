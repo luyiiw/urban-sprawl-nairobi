{
 "cells": [
  {
   "cell_type": "markdown",
   "metadata": {},
   "source": [
    "# Joining Labeled Data"
   ]
  },
  {
   "cell_type": "code",
   "execution_count": 4,
   "metadata": {},
   "outputs": [],
   "source": [
    "# Load Libraries \n",
    "import geopandas as gpd\n",
    "import pandas as pd\n"
   ]
  },
  {
   "cell_type": "code",
   "execution_count": 6,
   "metadata": {},
   "outputs": [
    {
     "name": "stdout",
     "output_type": "stream",
     "text": [
      "  landuse  database                   geometry\n",
      "0  formal      1984  POINT (36.81875 -1.28296)\n",
      "1  formal      1984  POINT (36.82147 -1.28555)\n",
      "2  formal      1984  POINT (36.82169 -1.28429)\n",
      "3  formal      1984  POINT (36.82322 -1.28458)\n",
      "4  formal      1984  POINT (36.81933 -1.28491)\n",
      "landuse\n",
      "formal        900\n",
      "informal      900\n",
      "vegetation    900\n",
      "Name: count, dtype: int64\n"
     ]
    }
   ],
   "source": [
    "# Load shapefiles\n",
    "formal_gdf = gpd.read_file(\"landuse_class/formal.shp\")\n",
    "informal_gdf = gpd.read_file(\"landuse_class/informal.shp\")\n",
    "vegetation_gdf = gpd.read_file(\"landuse_class/vegetation.shp\")\n",
    "\n",
    "# Drop 'Id' columns in formal and vegetation\n",
    "formal_gdf = formal_gdf.drop(columns=[\"Id\"], errors='ignore')\n",
    "vegetation_gdf = vegetation_gdf.drop(columns=[\"Id\"], errors='ignore')\n",
    "\n",
    "# Combine all into a single GeoDataFrame\n",
    "combined_gdf = pd.concat([formal_gdf, informal_gdf, vegetation_gdf], ignore_index=True)\n",
    "\n",
    "# Check the result (total of 900 points per lu class)\n",
    "combined_gdf.head()\n",
    "print(combined_gdf[\"landuse\"].value_counts())"
   ]
  },
  {
   "cell_type": "code",
   "execution_count": 8,
   "metadata": {},
   "outputs": [
    {
     "name": "stdout",
     "output_type": "stream",
     "text": [
      "EPSG:4326\n"
     ]
    }
   ],
   "source": [
    "# Check Projection\n",
    "print(combined_gdf.crs)"
   ]
  },
  {
   "cell_type": "markdown",
   "metadata": {},
   "source": [
    "# Preprocessing\n",
    "## Load Landsat TIF files\n",
    "Load the images through public API from Dropbox"
   ]
  },
  {
   "cell_type": "code",
   "execution_count": 11,
   "metadata": {},
   "outputs": [],
   "source": [
    "import requests\n",
    "import os "
   ]
  },
  {
   "cell_type": "code",
   "execution_count": 14,
   "metadata": {},
   "outputs": [
    {
     "name": "stdout",
     "output_type": "stream",
     "text": [
      "Downloaded landsat_1984.tif to landsat_images/landsat_1984.tif\n",
      "Downloaded landsat_2009.tif to landsat_images/landsat_2009.tif\n",
      "Downloaded landsat_2019.tif to landsat_images/landsat_2019.tif\n"
     ]
    }
   ],
   "source": [
    "# Create new output folder \n",
    "output_dir = \"landsat_images\"\n",
    "os.makedirs(output_dir, exist_ok=True)\n",
    "\n",
    "# Download multiple files\n",
    "landsat_files = {\n",
    "    \"1984\": \"https://www.dropbox.com/scl/fi/nk6xavounp62ua13knj8z/nairobi_landsat_1984_allbands.tif?rlkey=1hy39oiei4fwcsahydg007n6s&st=smighyej&dl=0\",\n",
    "    \"2009\": \"https://www.dropbox.com/scl/fi/flagfp77yvcyxt0b7plyj/nairobi_landsat_2009_allbands.tif?rlkey=etoqn6whwlkkz08cis68oyp6q&st=gpi4nlk5&dl=0\",\n",
    "    \"2019\": \"https://www.dropbox.com/scl/fi/l09necnzqgyigbd13iddp/nairobi_landsat_2019_allbands.tif?rlkey=0gec6urstoqomk6141f2ag5re&st=4h1715d2&dl=0\"\n",
    "}\n",
    "\n",
    "for year, url in landsat_files.items():\n",
    "    output_path = os.path.join(output_dir, f\"landsat_{year}.tif\")\n",
    "    r = requests.get(url)\n",
    "    with open(output_path, 'wb') as f:\n",
    "        f.write(r.content)\n",
    "    print(f\"Downloaded landsat_{year}.tif to {output_path}\")\n"
   ]
  }
 ],
 "metadata": {
  "kernelspec": {
   "display_name": "musa-650",
   "language": "python",
   "name": "python3"
  },
  "language_info": {
   "codemirror_mode": {
    "name": "ipython",
    "version": 3
   },
   "file_extension": ".py",
   "mimetype": "text/x-python",
   "name": "python",
   "nbconvert_exporter": "python",
   "pygments_lexer": "ipython3",
   "version": "3.11.11"
  }
 },
 "nbformat": 4,
 "nbformat_minor": 2
}
