{
 "cells": [
  {
   "cell_type": "markdown",
   "metadata": {},
   "source": [
    "# Joining Labeled Data"
   ]
  },
  {
   "cell_type": "code",
   "execution_count": 4,
   "metadata": {},
   "outputs": [],
   "source": [
    "# Load Libraries \n",
    "import geopandas as gpd\n",
    "import pandas as pd\n"
   ]
  },
  {
   "cell_type": "code",
   "execution_count": 6,
   "metadata": {},
   "outputs": [
    {
     "name": "stdout",
     "output_type": "stream",
     "text": [
      "  landuse  database                   geometry\n",
      "0  formal      1984  POINT (36.81875 -1.28296)\n",
      "1  formal      1984  POINT (36.82147 -1.28555)\n",
      "2  formal      1984  POINT (36.82169 -1.28429)\n",
      "3  formal      1984  POINT (36.82322 -1.28458)\n",
      "4  formal      1984  POINT (36.81933 -1.28491)\n",
      "landuse\n",
      "formal        900\n",
      "informal      900\n",
      "vegetation    900\n",
      "Name: count, dtype: int64\n"
     ]
    }
   ],
   "source": [
    "# Load shapefiles\n",
    "formal_gdf = gpd.read_file(\"landuse_class/formal.shp\")\n",
    "informal_gdf = gpd.read_file(\"landuse_class/informal.shp\")\n",
    "vegetation_gdf = gpd.read_file(\"landuse_class/vegetation.shp\")\n",
    "\n",
    "# Drop 'Id' columns in formal and vegetation\n",
    "formal_gdf = formal_gdf.drop(columns=[\"Id\"], errors='ignore')\n",
    "vegetation_gdf = vegetation_gdf.drop(columns=[\"Id\"], errors='ignore')\n",
    "\n",
    "# Combine all into a single GeoDataFrame\n",
    "combined_gdf = pd.concat([formal_gdf, informal_gdf, vegetation_gdf], ignore_index=True)\n",
    "\n",
    "# Check the result (total of 900 points per lu class)\n",
    "combined_gdf.head()\n",
    "print(combined_gdf[\"landuse\"].value_counts())"
   ]
  },
  {
   "cell_type": "code",
   "execution_count": 8,
   "metadata": {},
   "outputs": [
    {
     "name": "stdout",
     "output_type": "stream",
     "text": [
      "EPSG:4326\n"
     ]
    }
   ],
   "source": [
    "# Check Projection\n",
    "print(combined_gdf.crs)"
   ]
  },
  {
   "cell_type": "code",
   "execution_count": null,
   "metadata": {},
   "outputs": [],
   "source": []
  }
 ],
 "metadata": {
  "kernelspec": {
   "display_name": "musa-650",
   "language": "python",
   "name": "python3"
  },
  "language_info": {
   "codemirror_mode": {
    "name": "ipython",
    "version": 3
   },
   "file_extension": ".py",
   "mimetype": "text/x-python",
   "name": "python",
   "nbconvert_exporter": "python",
   "pygments_lexer": "ipython3",
   "version": "3.11.11"
  }
 },
 "nbformat": 4,
 "nbformat_minor": 2
}
